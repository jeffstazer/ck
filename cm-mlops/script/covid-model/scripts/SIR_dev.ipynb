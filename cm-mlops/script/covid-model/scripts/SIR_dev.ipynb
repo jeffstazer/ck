{
 "cells": [
  {
   "cell_type": "code",
   "execution_count": 6,
   "metadata": {},
   "outputs": [],
   "source": [
    "import matplotlib\n",
    "import matplotlib.pyplot as plt\n",
    "\n",
    "import jax\n",
    "import jax.numpy as np\n",
    "from jax.random import PRNGKey\n",
    "\n",
    "import numpyro\n",
    "import numpyro.distributions as dist\n",
    "from numpyro.infer import MCMC, NUTS, Predictive\n",
    "\n",
    "import pandas as pd\n",
    "\n",
    "from covid.models.SEIR_hierarchical import SEIR_hierarchical\n",
    "import covid.util as util"
   ]
  },
  {
   "cell_type": "markdown",
   "metadata": {},
   "source": [
    "# Run Inference"
   ]
  },
  {
   "cell_type": "code",
   "execution_count": null,
   "metadata": {},
   "outputs": [],
   "source": [
    "#states = ['MA', 'NY', 'WA', 'AL']\n",
    "states = ['MA', 'NY']\n",
    "data, place_data = util.load_state_Xy(which=states)\n",
    "data = data.join(place_data.drop(columns='state'), how='inner')\n",
    "\n",
    "args = {\n",
    "    'data': data,\n",
    "    'place_data' : place_data,\n",
    "    'use_rw': False,\n",
    "    'rw_scale': 1e-2,\n",
    "    'det_noise_scale' : 0.2\n",
    "}\n",
    "\n",
    "prob_model = SEIR_hierarchical\n",
    "\n",
    "kernel = NUTS(prob_model,\n",
    "              init_strategy = numpyro.infer.util.init_to_median())\n",
    "\n",
    "mcmc = MCMC(kernel, \n",
    "            num_warmup=100,\n",
    "            num_samples=100,\n",
    "            num_chains=1)\n",
    "\n",
    "mcmc.run(jax.random.PRNGKey(1), use_obs=True, **args)\n",
    "\n",
    "mcmc.print_summary()\n",
    "mcmc_samples = mcmc.get_samples()"
   ]
  },
  {
   "cell_type": "code",
   "execution_count": 10,
   "metadata": {
    "scrolled": false
   },
   "outputs": [],
   "source": [
    "# Prior samples for comparison\n",
    "prior = Predictive(prob_model, posterior_samples = {}, num_samples = 100)\n",
    "prior_samples = prior(PRNGKey(2), **args)\n",
    "\n",
    "# Posterior predictive samples for visualization\n",
    "args['rw_scale'] = 0 # set drift to zero for forecasting\n",
    "post_pred = Predictive(prob_model, posterior_samples = mcmc_samples)\n",
    "post_pred_samples = post_pred(PRNGKey(2), T_future=100, **args)"
   ]
  },
  {
   "cell_type": "code",
   "execution_count": 8,
   "metadata": {},
   "outputs": [],
   "source": [
    "util.write_summary('US_covariates', mcmc)\n",
    "util.save_samples('US_covariates', prior_samples, mcmc_samples, post_pred_samples)"
   ]
  },
  {
   "cell_type": "code",
   "execution_count": 9,
   "metadata": {
    "scrolled": true
   },
   "outputs": [
    {
     "name": "stdout",
     "output_type": "stream",
     "text": [
      "gamma [0.3464801  0.37189826]\n",
      "R0 [[3.1720471 3.1916845 3.1929438 3.2114496 3.1422884 3.043989  2.8601043\n",
      "  2.8791342 2.8868668 2.9021463 2.9310255 2.9418378 3.0027227 3.7911875\n",
      "  3.812908  3.866743  3.9161506 3.946541  3.9698458 3.911184  2.3683534\n",
      "  2.3325617 2.2357802 2.1995196 2.1161597 2.063951  2.002806  1.9450969\n",
      "  1.9285046 1.9070902 1.8889961 1.7992517 1.8053932 1.8105302 1.8117393\n",
      "  1.3746085 1.3849001 1.400169  1.377096  1.3743753 1.4169884 1.401566\n",
      "  1.3945823 1.4436171 1.3624917 1.4235996 1.3995278 1.4291694 1.3847905]\n",
      " [4.7473254 4.7597547 4.7051883 4.4703813 4.4937234 4.4915967 4.568578\n",
      "  4.612752  4.66532   4.774122  4.8349023 4.8922715 4.8946023 4.9226923\n",
      "  6.1805162 6.183546  3.5542111 3.5109382 3.4574018 3.4014502 3.3975034\n",
      "  3.3474245 3.3126569 3.3031259 3.2971754 3.3343956 3.3254812 3.3625414\n",
      "  3.373569  2.687618  2.6415446 2.6896884 2.6362207 2.6146927 2.6463132\n",
      "  2.6072226 2.6235611 2.5971754 2.5985427 2.5845444 2.5817754 2.5405316\n",
      "  2.5132647 2.484813  2.5041904 2.4635122 2.4489183 4.303139  4.282829 ]]\n",
      "future [[1.4024384  1.3354516  1.3685809  1.3962234  1.3049383  1.3784094\n",
      "  1.2904925  1.2639794  1.2784652  1.2550025  1.2283471  1.2553517\n",
      "  1.2343247  1.2645873  1.2671449  1.239538   1.2082349  1.1860658\n",
      "  1.1961026  1.1585611  1.1443093  1.1481382  1.1446142  1.2027888\n",
      "  1.1176072  1.1523008  1.1487262  1.1327677  1.0860039  1.1463057\n",
      "  1.097702   1.0926428  1.0398299  1.1045991  1.0447577  1.0960798\n",
      "  0.99602556 1.0360378  1.0889214  1.044507   1.0175096  0.97852606\n",
      "  0.9853146  1.0556159  0.9918333  1.0108118  1.0205779  1.000426\n",
      "  0.96556264 0.9492203  0.95447785 0.94948506 1.0370823  0.9378893\n",
      "  0.9143391  0.93069017 0.8834709  0.93909705 0.9214894  0.93150705\n",
      "  0.923581   0.9515302  0.91540915 0.8830566  0.8250082  0.92807984\n",
      "  0.8474303  0.82904357 0.8270444  0.8746851  0.87988853 0.867501\n",
      "  0.83786285 0.79319715 0.86528796 0.8242575  0.83673686 0.84140426\n",
      "  0.8450563  0.88054574 0.8061145  0.8036826  0.80170405 0.76750886\n",
      "  0.7994061  0.803073   0.75557375 0.76724887 0.75987273 0.76049674\n",
      "  0.7173873  0.76821446 0.7085741  0.76343566 0.7524684  0.7713323\n",
      "  0.70052254 0.7355936  0.74536574]\n",
      " [4.2582893  4.249083   4.248323   4.2374816  4.1455407  4.125327\n",
      "  4.0607924  4.0459075  4.1171694  4.040318   3.947596   4.0468645\n",
      "  4.0006576  3.9196644  3.9080615  3.915703   3.9465833  3.8726459\n",
      "  3.8228393  3.8375976  3.8563015  3.7274697  3.7580976  3.717415\n",
      "  3.7505822  3.7122407  3.7289283  3.6855268  3.6813984  3.6337194\n",
      "  3.594559   3.6419866  3.5904284  3.6205387  3.5687597  3.5371277\n",
      "  3.567054   3.543      3.5497773  3.5617316  3.5140512  3.4888842\n",
      "  3.4936426  3.4196432  3.408556   3.4338708  3.3874607  3.424272\n",
      "  3.3761976  3.4096622  3.3506012  3.321349   3.3653252  3.2857757\n",
      "  3.2886026  3.2371016  3.2966516  3.2896576  3.2823813  3.1961358\n",
      "  3.150343   3.2583888  3.1801465  3.193218   3.1573694  3.1621697\n",
      "  3.1992452  3.1953444  3.10208    3.1858203  3.1773193  3.1957917\n",
      "  3.0855646  3.1677558  3.1118603  3.1133797  3.0769002  3.0582962\n",
      "  3.0408192  3.0526495  3.0522306  3.0366678  3.0370421  2.9732342\n",
      "  3.031207   3.0993311  3.0223815  3.0274427  2.986863   3.0446494\n",
      "  3.0145826  2.92358    2.9863489  2.983335   2.914261   2.9682095\n",
      "  2.9823682  2.9388452  2.9123778 ]]\n"
     ]
    }
   ],
   "source": [
    "print(\"gamma\", 1/mcmc_samples['I_duration'].mean(axis=0))\n",
    "print(\"R0\", mcmc_samples['R0'].mean(axis=0))\n",
    "print(\"future\", post_pred_samples['R0_future'].mean(axis=0))\n"
   ]
  },
  {
   "cell_type": "code",
   "execution_count": null,
   "metadata": {
    "scrolled": false
   },
   "outputs": [],
   "source": [
    "T = 100\n",
    "scale = 'log'\n",
    "\n",
    "places = data.index.unique(level=0)\n",
    "start = data.index.unique(level=1).min()\n",
    "num_places = len(places)\n",
    "\n",
    "for i, place in zip(range(num_places), places):\n",
    "    \n",
    "    t = pd.date_range(start=start, periods=T, freq='D')\n",
    "    \n",
    "    shared_params = ['beta0_base', 'gamma_base', 'sigma_base', 'det_rate_base']\n",
    "    place_samples = {k: v[:,i,...] for k, v in post_pred_samples.items() if not k in shared_params}\n",
    "    \n",
    "    t = pd.date_range(start=start, periods=T, freq='D')\n",
    "    \n",
    "    positive = data.loc[place].positive\n",
    "    death = data.loc[place].death\n",
    "\n",
    "    \n",
    "    fig, ax = plot_forecast(place_samples, T, positive, t=t, scale=scale, death=death)\n",
    "\n",
    "    #plot_samples(place_samples, plot_fields=['I'], ax=ax, t=t, T=T)\n",
    "    #plt.plot(obs[i,:], 'o')\n",
    "\n",
    "    name = place\n",
    "    plt.suptitle(f'{name} {T} days ')\n",
    "    plt.tight_layout()\n",
    "    plt.show()\n",
    "\n",
    "    \n",
    "    "
   ]
  },
  {
   "cell_type": "code",
   "execution_count": null,
   "metadata": {},
   "outputs": [],
   "source": []
  }
 ],
 "metadata": {
  "kernelspec": {
   "display_name": "Python 3",
   "language": "python",
   "name": "python3"
  },
  "language_info": {
   "codemirror_mode": {
    "name": "ipython",
    "version": 3
   },
   "file_extension": ".py",
   "mimetype": "text/x-python",
   "name": "python",
   "nbconvert_exporter": "python",
   "pygments_lexer": "ipython3",
   "version": "3.7.4"
  }
 },
 "nbformat": 4,
 "nbformat_minor": 2
}
