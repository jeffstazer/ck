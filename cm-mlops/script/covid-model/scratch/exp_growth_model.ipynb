{
 "cells": [
  {
   "cell_type": "code",
   "execution_count": 195,
   "metadata": {},
   "outputs": [
    {
     "name": "stdout",
     "output_type": "stream",
     "text": [
      "tmp\n"
     ]
    }
   ],
   "source": [
    "#import jhu\n",
    "import pandas as pd\n",
    "import covid.util as util\n",
    "print (\"tmp\")"
   ]
  },
  {
   "cell_type": "code",
   "execution_count": 196,
   "metadata": {
    "scrolled": false
   },
   "outputs": [
    {
     "data": {
      "image/png": "[encoded data removed]",
      "text/plain": [
       "<Figure size 432x288 with 1 Axes>"
      ]
     },
     "metadata": {},
     "output_type": "display_data"
    }
   ],
   "source": [
    "import matplotlib.pyplot as plt\n",
    "US = util.jhu.load_us()\n",
    "start = pd.Timestamp('2020-03-15')\n",
    "\n",
    "US[0]['MA'][start:].plot(style='o-')\n",
    "plt.title('MA')\n",
    "plt.show()\n",
    "vals = US[0]['MA'][start:]['death'].values"
   ]
  },
  {
   "cell_type": "code",
   "execution_count": 197,
   "metadata": {},
   "outputs": [
    {
     "name": "stderr",
     "output_type": "stream",
     "text": [
      "sample: 100%|██████████| 3000/3000 [18:12<00:00,  2.75it/s, 511 steps of size 9.88e-03. acc. prob=0.93]  \n"
     ]
    },
    {
     "name": "stdout",
     "output_type": "stream",
     "text": [
      "\n",
      "                     mean       std    median      5.0%     95.0%     n_eff     r_hat\n",
      "             d0    -46.06      4.59    -46.02    -53.75    -38.95   3065.79      1.00\n",
      "  kernel_length 793350111232.00 30521090375680.00      0.04      0.00  11621.97   2002.31      1.00\n",
      "   kernel_noise     13.49      9.40     17.57      0.00     23.13    558.86      1.01\n",
      "     kernel_var      8.64     30.02      0.36      0.00     21.47   1833.37      1.00\n",
      "          rw[0]      0.04      4.48     -0.02     -6.87      7.53   3060.51      1.00\n",
      "          rw[1]     -0.03      1.35     -0.04     -2.28      2.10   3592.60      1.00\n",
      "          rw[2]      0.08      1.32      0.09     -2.19      2.15   3117.66      1.00\n",
      "          rw[3]      1.94      1.30      1.94     -0.09      4.15   3031.79      1.00\n",
      "          rw[4]     42.00      1.39     42.00     39.73     44.23   3358.50      1.00\n",
      "          rw[5]      2.00      1.34      1.99     -0.15      4.17   4191.33      1.00\n",
      "          rw[6]      1.61      1.32      1.62     -0.68      3.60   4041.50      1.00\n",
      "          rw[7]      0.59      1.31      0.57     -1.55      2.74   4416.76      1.00\n",
      "          rw[8]      0.26      1.33      0.26     -1.86      2.51   4925.06      1.00\n",
      "          rw[9]      0.31      1.27      0.33     -1.78      2.22   3565.56      1.00\n",
      "         rw[10]      0.46      1.29      0.48     -1.95      2.34   3408.05      1.00\n",
      "         rw[11]      0.35      1.33      0.37     -1.82      2.48   3196.97      1.00\n",
      "         rw[12]      0.22      1.34      0.20     -1.89      2.44   3161.29      1.00\n",
      "         rw[13]      0.10      1.33      0.10     -2.11      2.19   3134.19      1.00\n",
      "         rw[14]      0.15      1.32      0.16     -2.02      2.28   3416.82      1.00\n",
      "         rw[15]      0.46      1.32      0.46     -1.71      2.66   3549.58      1.00\n",
      "         rw[16]      0.34      1.30      0.34     -1.65      2.50   3488.21      1.00\n",
      "         rw[17]      0.23      1.36      0.21     -1.93      2.57   3532.56      1.00\n",
      "         rw[18]      0.23      1.38      0.21     -1.99      2.53   3454.01      1.00\n",
      "         rw[19]      0.11      1.30      0.11     -2.08      2.14   3805.92      1.00\n",
      "         rw[20]      0.05      1.32      0.09     -2.20      2.15   4105.53      1.00\n",
      "         rw[21]      0.13      1.30      0.06     -1.93      2.35   3432.26      1.00\n",
      "         rw[22]      0.28      1.31      0.27     -1.96      2.24   3254.47      1.00\n",
      "         rw[23]      0.27      1.36      0.26     -1.84      2.63   3558.34      1.00\n",
      "         rw[24]      0.12      1.34      0.11     -2.02      2.38   3371.70      1.00\n",
      "         rw[25]      0.19      1.33      0.17     -1.78      2.45   3113.40      1.00\n",
      "         rw[26]      0.10      1.30      0.11     -1.91      2.36   2559.12      1.00\n",
      "         rw[27]      0.10      1.32      0.11     -2.05      2.27   3168.49      1.00\n",
      "         rw[28]      0.14      1.29      0.15     -1.88      2.32   3488.95      1.00\n",
      "         rw[29]      0.01      1.28     -0.02     -2.01      2.15   3359.53      1.00\n",
      "         rw[30]      0.26      1.35      0.25     -2.04      2.33   3907.57      1.00\n",
      "         rw[31]      0.01      1.31      0.00     -2.06      2.19   3720.98      1.00\n",
      "         rw[32]      0.09      1.30      0.10     -2.24      2.06   3568.82      1.00\n",
      "         rw[33]      0.12      1.26      0.13     -1.96      2.14   3414.51      1.00\n",
      "         rw[34]      0.20      1.29      0.23     -1.94      2.25   3332.42      1.00\n",
      "         rw[35]      0.02      1.35      0.06     -2.13      2.35   3242.21      1.00\n",
      "         rw[36]      0.13      1.32      0.11     -2.12      2.20   2711.40      1.00\n",
      "         rw[37]      0.12      1.36      0.10     -2.21      2.24   3424.07      1.00\n",
      "         rw[38]      0.09      1.32      0.09     -2.15      2.25   3343.59      1.00\n",
      "         rw[39]      0.04      1.30      0.04     -1.98      2.17   3645.15      1.00\n",
      "         rw[40]      0.08      1.29      0.12     -2.07      2.14   4130.01      1.00\n",
      "         rw[41]      0.04      1.32      0.06     -2.08      2.14   4343.82      1.00\n",
      "         rw[42]      0.03      1.31      0.05     -2.02      2.23   3789.60      1.00\n",
      "         rw[43]      0.05      1.29      0.09     -2.04      2.09   3566.78      1.00\n",
      "         rw[44]      0.10      1.26      0.11     -1.98      2.16   3057.99      1.00\n",
      "         rw[45]      0.04      1.27      0.02     -1.97      2.17   3912.44      1.00\n",
      "         rw[46]      0.04      1.33      0.08     -2.12      2.20   4275.57      1.00\n",
      "         rw[47]      0.05      1.34      0.05     -2.10      2.27   3573.02      1.00\n",
      "         rw[48]      0.05      1.34      0.09     -2.25      2.10   3919.50      1.00\n",
      "         rw[49]      0.02      1.26      0.03     -2.07      1.99   3290.10      1.00\n",
      "         rw[50]     -0.00      1.32      0.00     -2.00      2.46   3712.93      1.00\n",
      "         rw[51]      0.09      1.33      0.11     -2.04      2.28   3639.16      1.00\n",
      "         rw[52]     -0.02      1.36     -0.00     -2.25      2.15   3537.76      1.00\n",
      "         rw[53]      0.05      1.29      0.06     -1.98      2.21   3768.31      1.00\n",
      "         rw[54]     -0.00      1.30     -0.01     -2.19      2.05   3389.76      1.00\n",
      "         rw[55]      0.04      1.37      0.08     -2.22      2.21   3266.37      1.00\n",
      "         rw[56]      0.06      1.36      0.06     -2.35      2.05   3209.77      1.00\n",
      "         rw[57]      0.01      1.32      0.04     -2.03      2.26   3428.94      1.00\n",
      "         rw[58]      0.01      1.35      0.02     -2.22      2.16   3833.14      1.00\n",
      "         rw[59]      0.06      1.32      0.09     -2.02      2.24   3517.53      1.00\n",
      "         rw[60]     -0.01      1.35     -0.01     -2.20      2.21   3545.46      1.00\n",
      "         rw[61]      0.04      1.35      0.02     -2.31      2.11   3544.30      1.00\n",
      "         rw[62]      0.00      1.30      0.03     -2.26      2.03   4296.25      1.00\n",
      "         rw[63]      0.02      1.32      0.01     -2.24      2.11   4245.03      1.00\n",
      "         rw[64]      0.00      1.28     -0.01     -1.93      2.29   3256.13      1.00\n",
      "         rw[65]      0.04      1.31      0.03     -2.08      2.13   3369.05      1.00\n",
      "         rw[66]      0.02      1.37     -0.00     -2.05      2.39   3633.03      1.00\n",
      "         rw[67]     -0.01      1.32     -0.04     -2.19      2.14   4315.78      1.00\n",
      "         rw[68]      0.04      1.35      0.07     -2.00      2.42   3437.02      1.00\n",
      "         rw[69]     -0.01      1.25     -0.00     -2.02      2.09   3389.36      1.00\n",
      "         rw[70]     -0.02      1.26      0.01     -1.88      2.26   4226.23      1.00\n",
      "         rw[71]      0.02      1.27     -0.01     -2.08      2.05   3784.78      1.00\n",
      "         rw[72]      0.02      1.33      0.02     -1.98      2.43   3791.14      1.00\n",
      "         rw[73]      0.04      1.32      0.04     -2.05      2.27   3547.78      1.00\n",
      "         rw[74]     -0.02      1.30     -0.02     -2.43      1.90   3341.13      1.00\n",
      "         rw[75]      0.03      1.31      0.01     -2.01      2.22   3432.75      1.00\n",
      "         rw[76]      0.00      1.35     -0.01     -2.15      2.25   2985.18      1.00\n",
      "         rw[77]      0.02      1.30      0.04     -2.05      2.20   3152.31      1.00\n",
      "         rw[78]      0.06      1.37      0.05     -2.06      2.43   3055.81      1.00\n",
      "         rw[79]     -0.01      1.32     -0.05     -2.13      2.20   3537.64      1.00\n",
      "         rw[80]      0.01      1.30      0.03     -2.21      2.00   3492.54      1.00\n",
      "         rw[81]     -0.01      1.29      0.01     -2.20      2.02   2734.54      1.00\n",
      "         rw[82]     -0.03      1.39     -0.03     -2.20      2.43   4491.62      1.00\n",
      "         rw[83]      0.05      1.35      0.06     -2.10      2.28   3148.48      1.00\n",
      "         rw[84]      0.00      1.32     -0.03     -2.23      2.17   3180.62      1.00\n",
      "         rw[85]      0.01      1.36      0.01     -2.31      2.07   3465.16      1.00\n",
      "         rw[86]      0.01      1.29      0.04     -2.22      2.02   3513.78      1.00\n",
      "         rw[87]      0.03      1.35      0.03     -2.19      2.17   3294.15      1.00\n",
      "         rw[88]     -0.03      1.35     -0.04     -2.24      2.13   3372.15      1.00\n",
      "         rw[89]     -0.00      1.25      0.03     -2.04      2.03   3098.24      1.00\n",
      "         rw[90]      0.01      1.32      0.01     -2.13      2.15   3251.93      1.00\n",
      "         rw[91]     -0.04      1.33     -0.03     -2.17      2.21   3450.14      1.00\n",
      "         rw[92]      0.03      1.35      0.05     -2.23      2.19   3177.92      1.00\n",
      "         rw[93]     -0.01      1.32     -0.01     -2.19      2.03   3378.21      1.00\n",
      "         rw[94]      0.04      1.33      0.01     -2.13      2.27   3676.92      1.00\n",
      "         rw[95]     -0.02      1.33      0.00     -2.09      2.20   3104.79      1.00\n",
      "         rw[96]      0.06      1.34      0.08     -2.10      2.31   3461.12      1.00\n",
      "         rw[97]     -0.03      1.33      0.01     -2.29      2.04   2924.78      1.00\n",
      "         rw[98]     -0.00      1.29     -0.00     -2.02      2.17   4244.70      1.00\n",
      "\n",
      "Number of divergences: 1\n"
     ]
    }
   ],
   "source": [
    "import jax\n",
    "import jax.numpy as np\n",
    "from jax.random import PRNGKey\n",
    "\n",
    "import numpyro\n",
    "import numpyro.distributions as dist\n",
    "\n",
    "import numpyro\n",
    "from numpyro.diagnostics import hpdi\n",
    "import numpyro.distributions as dist\n",
    "from numpyro import handlers\n",
    "from numpyro.infer import MCMC, NUTS\n",
    "from jax import random, vmap\n",
    "\n",
    "rng_key = random.PRNGKey(0)\n",
    "rng_key, rng_key_ = random.split(rng_key)\n",
    "\n",
    "num_warmup, num_samples = 1000, 2000\n",
    "\n",
    "#\n",
    "\n",
    "import numpy as onp\n",
    "\n",
    "def kernel(X, Z, var, length, noise, jitter=1.0e-6, include_noise=True):\n",
    "    deltaXsq = np.power((X[:, None] - Z) / length, 2.0)\n",
    "    k = var * np.exp(-0.5 * deltaXsq)\n",
    "    if include_noise:\n",
    "        k += (noise + jitter) * np.eye(X.shape[0])\n",
    "    return k\n",
    "\n",
    "\n",
    "def model(vals=None,t_future=0):\n",
    "    rng_key, rng_key_predict = random.split(random.PRNGKey(0))\n",
    "\n",
    "    var = numpyro.sample(\"kernel_var\", dist.LogNormal(0.0, 10.0))\n",
    "    noise = numpyro.sample(\"kernel_noise\", dist.LogNormal(0.0, 10.0))\n",
    "    length = numpyro.sample(\"kernel_length\", dist.LogNormal(0.0, 10.0))\n",
    "    X = np.arange(len(vals))\n",
    "    # compute kernel\n",
    "    k = kernel(X, X, var, length, noise)\n",
    "\n",
    "    # sample Y according to the standard gaussian process formula\n",
    "    rw=numpyro.sample(\"rw\", dist.MultivariateNormal(loc=np.zeros(X.shape[0]), covariance_matrix=k))\n",
    "   # rw = numpyro.sample(\"rw\",dist.GaussianRandomWalk(scale=10, num_steps=len(vals)))\n",
    "    d0 = numpyro.sample(\"d0\",dist.Normal(vals[0],100))\n",
    "    i_mean = np.cumsum(rw)+d0\n",
    "    \n",
    "    numpyro.sample('obs', dist.Normal(i_mean, 1), obs=np.log(vals+1e-20))\n",
    "    if (t_future >0):\n",
    "        X_test = np.arange(len(vals),len(vals)+t_future)\n",
    "        k_pp = kernel(X_test, X_test, var, length, noise, include_noise=True)\n",
    "        k_pX = kernel(X_test, X, var, length, noise, include_noise=False)\n",
    "        k_XX = kernel(X, X, var, length, noise, include_noise=True)\n",
    "        K_xx_inv = np.linalg.inv(k_XX)\n",
    "        K = k_pp - np.matmul(k_pX, np.matmul(K_xx_inv, np.transpose(k_pX)))\n",
    "        sigma_noise = np.sqrt(np.clip(np.diag(K), a_min=0.)) * jax.random.normal(rng_key, X_test.shape[:1])\n",
    "        mean = np.matmul(k_pX, np.matmul(K_xx_inv, rw))\n",
    "        i_mean_future = np.cumsum(mean) + i_mean[-1]\n",
    "        print (X_test)\n",
    "        \n",
    "        numpyro.sample('obs_future', dist.Normal(i_mean_future , .00001))\n",
    "        \n",
    "\n",
    "kern = NUTS(model)\n",
    "mcmc = MCMC(kern, num_warmup, num_samples)\n",
    "mcmc.run(rng_key_, vals=vals[1:100])\n",
    "mcmc.print_summary()\n",
    "samples_1 = mcmc.get_samples()\n",
    "    \n",
    "    "
   ]
  },
  {
   "cell_type": "code",
   "execution_count": 192,
   "metadata": {},
   "outputs": [
    {
     "name": "stdout",
     "output_type": "stream",
     "text": [
      "[ 99 100 101 102 103 104 105 106 107 108 109 110 111 112 113 114 115 116\n",
      " 117 118]\n"
     ]
    }
   ],
   "source": [
    "from numpyro.infer import Predictive\n",
    "\n",
    "rng_key, rng_key_ = random.split(rng_key)\n",
    "predictive = Predictive(model, samples_1)\n",
    "predictions = predictive(rng_key_, vals=vals[1:100],t_future=20)"
   ]
  },
  {
   "cell_type": "code",
   "execution_count": 193,
   "metadata": {},
   "outputs": [
    {
     "name": "stdout",
     "output_type": "stream",
     "text": [
      "{'obs': DeviceArray([[-11.512925, -11.512925, -11.512925, ...,   8.965463,\n",
      "                8.969288,   8.971321],\n",
      "             [-11.512925, -11.512925, -11.512925, ...,   8.965463,\n",
      "                8.969288,   8.971321],\n",
      "             [-11.512925, -11.512925, -11.512925, ...,   8.965463,\n",
      "                8.969288,   8.971321],\n",
      "             ...,\n",
      "             [-11.512925, -11.512925, -11.512925, ...,   8.965463,\n",
      "                8.969288,   8.971321],\n",
      "             [-11.512925, -11.512925, -11.512925, ...,   8.965463,\n",
      "                8.969288,   8.971321],\n",
      "             [-11.512925, -11.512925, -11.512925, ...,   8.965463,\n",
      "                8.969288,   8.971321]], dtype=float32), 'obs_future': DeviceArray([[ 8.548004 ,  8.571454 ,  8.627933 , ..., 10.6055765,\n",
      "              10.651223 , 10.6861725],\n",
      "             [ 8.601685 ,  8.624004 ,  8.669107 , ...,  9.861    ,\n",
      "               9.88931  ,  9.911579 ],\n",
      "             [ 8.90532  ,  8.835819 ,  8.782214 , ...,  9.203951 ,\n",
      "               9.213267 ,  9.219604 ],\n",
      "             ...,\n",
      "             [ 8.918959 ,  8.78936  ,  8.618949 , ...,  6.987887 ,\n",
      "               6.9848514,  6.983193 ],\n",
      "             [ 8.986295 ,  8.945587 ,  8.963113 , ..., 10.79212  ,\n",
      "              10.803182 , 10.809869 ],\n",
      "             [ 7.871984 ,  7.2880535,  6.634233 , ...,  2.553453 ,\n",
      "               2.5498924,  2.5480838]], dtype=float32)}\n"
     ]
    }
   ],
   "source": [
    "print (predictions)\n",
    "predictions_obs = predictions['obs']\n",
    "predictions_obs_future = predictions['obs_future']"
   ]
  },
  {
   "cell_type": "code",
   "execution_count": 194,
   "metadata": {},
   "outputs": [
    {
     "name": "stdout",
     "output_type": "stream",
     "text": [
      "[[ 8.548004   8.571454   8.627933  ... 10.6055765 10.651223  10.6861725]\n",
      " [ 8.601685   8.624004   8.669107  ...  9.861      9.88931    9.911579 ]\n",
      " [ 8.90532    8.835819   8.782214  ...  9.203951   9.213267   9.219604 ]\n",
      " ...\n",
      " [ 8.918959   8.78936    8.618949  ...  6.987887   6.9848514  6.983193 ]\n",
      " [ 8.986295   8.945587   8.963113  ... 10.79212   10.803182  10.809869 ]\n",
      " [ 7.871984   7.2880535  6.634233  ...  2.553453   2.5498924  2.5480838]]\n",
      "(99,)\n"
     ]
    },
    {
     "data": {
      "image/png": "[encoded data removed]",
      "text/plain": [
       "<Figure size 432x288 with 1 Axes>"
      ]
     },
     "metadata": {},
     "output_type": "display_data"
    }
   ],
   "source": [
    "print (predictions_obs_future)\n",
    "#plt.plot(samples_1['rw'])\n",
    "#plt.plot(np.mean(np.exp(predictions),axis=0))\n",
    "print (samples_1['rw'][samp,:].shape)\n",
    "#for samp in range(1000):\n",
    "#    plt.plot(np.exp(np.cumsum(samples_1['rw'][samp,:]) + samples_1['d0'][samp]),alpha=.1)\n",
    "plt.plot(range(len(vals)),vals)\n",
    "plt.plot(range(99),np.exp(np.mean(predictions_obs,axis=0)))\n",
    "plt.plot(range(100,120),np.exp(np.mean(predictions_obs_future,axis=0)))\n",
    "\n",
    "plt.show()"
   ]
  },
  {
   "cell_type": "code",
   "execution_count": null,
   "metadata": {},
   "outputs": [],
   "source": []
  },
  {
   "cell_type": "code",
   "execution_count": null,
   "metadata": {},
   "outputs": [],
   "source": []
  },
  {
   "cell_type": "code",
   "execution_count": null,
   "metadata": {},
   "outputs": [],
   "source": []
  }
 ],
 "metadata": {
  "kernelspec": {
   "display_name": "Python 3",
   "language": "python",
   "name": "python3"
  },
  "language_info": {
   "codemirror_mode": {
    "name": "ipython",
    "version": 3
   },
   "file_extension": ".py",
   "mimetype": "text/x-python",
   "name": "python",
   "nbconvert_exporter": "python",
   "pygments_lexer": "ipython3",
   "version": "3.6.4"
  }
 },
 "nbformat": 4,
 "nbformat_minor": 2
}
